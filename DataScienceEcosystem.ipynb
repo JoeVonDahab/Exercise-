{
 "cells": [
  {
   "cell_type": "markdown",
   "id": "5af5af98-2f72-4d33-9ae5-5255c031b7c8",
   "metadata": {},
   "source": [
    "# Data Science Tools and Ecosystem"
   ]
  },
  {
   "cell_type": "markdown",
   "id": "32dbe332-a8c3-44ec-a069-dd137ccc8609",
   "metadata": {},
   "source": [
    "In this notebook, Data Science Tools and Ecosystem are summarized"
   ]
  },
  {
   "cell_type": "markdown",
   "id": "12725ff3-3ab6-47f7-91ef-fa417ea1999d",
   "metadata": {},
   "source": [
    "**Objectives:**\n",
    "\n",
    "- List popular languages for Data Science\n",
    "- List Popular tools for Data Science\n",
    "- Give example of simple arithmetic operations\n",
    "- do some excercies\n"
   ]
  },
  {
   "cell_type": "markdown",
   "id": "3b0d0cfb-f9c0-421d-9dcd-d0e9e39303aa",
   "metadata": {},
   "source": [
    "Some of the popular languages that Data Scientists use are:"
   ]
  },
  {
   "cell_type": "markdown",
   "id": "a943a0a8-7e7c-4910-9b67-cf02e61938a7",
   "metadata": {},
   "source": [
    "1. Python\n",
    "2. R\n",
    "3. Shell\n",
    "4. Julia"
   ]
  },
  {
   "cell_type": "markdown",
   "id": "a58bcf63-9374-425b-ba4e-89b7be7f14c6",
   "metadata": {},
   "source": [
    "Some of the commonly used libraries used by Data Scientists include:\n",
    "1. NumPy\n",
    "2. SciPy\n",
    "3. ggplot (in R)\n",
    "4. matplot"
   ]
  },
  {
   "cell_type": "markdown",
   "id": "e85c999a-12bf-46a2-a70b-cde360efac4d",
   "metadata": {},
   "source": [
    "| Data Science Tools        |\n",
    "|---------------------------|\n",
    "| Jupyter Notebook          |\n",
    "| RStudio                   |\n",
    "| Apache Zeppelin           |\n"
   ]
  },
  {
   "cell_type": "markdown",
   "id": "9f2749af-3210-4bdc-8e6c-2afeb50312d2",
   "metadata": {},
   "source": [
    "### Below are a few examples of evaluating arithmetic expressions in Python."
   ]
  },
  {
   "cell_type": "markdown",
   "id": "90aac66b-8622-4e67-b886-31aa5e191b2a",
   "metadata": {},
   "source": [
    "This a simple arithmetic expression to mutiply then add integers"
   ]
  },
  {
   "cell_type": "code",
   "execution_count": 1,
   "id": "cece0ccf-04d9-4777-a425-74e466514134",
   "metadata": {
    "tags": []
   },
   "outputs": [
    {
     "data": {
      "text/plain": [
       "17"
      ]
     },
     "execution_count": 1,
     "metadata": {},
     "output_type": "execute_result"
    }
   ],
   "source": [
    "(3*4)+5"
   ]
  },
  {
   "cell_type": "markdown",
   "id": "42f8da83-a455-4c50-86c9-e9609cf67e07",
   "metadata": {},
   "source": [
    "This will convert 200 minutes to hours by diving by 60"
   ]
  },
  {
   "cell_type": "code",
   "execution_count": 4,
   "id": "6e601696-4e55-471c-b9da-f7bf1a111e82",
   "metadata": {
    "tags": []
   },
   "outputs": [
    {
     "name": "stdout",
     "output_type": "stream",
     "text": [
      "3 Hours\n"
     ]
    }
   ],
   "source": [
    "result = 200/60\n",
    "final = int(result)\n",
    "print(final,\"Hours\")"
   ]
  },
  {
   "cell_type": "markdown",
   "id": "f83c79dc-ecb2-4121-9cee-7ded7a0b6480",
   "metadata": {},
   "source": [
    "## Author\n",
    "\n",
    "My name is Youssef Abodahab\n"
   ]
  },
  {
   "cell_type": "code",
   "execution_count": null,
   "id": "851f7ef6-790a-4a67-b507-20d2320ba1f8",
   "metadata": {},
   "outputs": [],
   "source": []
  }
 ],
 "metadata": {
  "kernelspec": {
   "display_name": "Python",
   "language": "python",
   "name": "conda-env-python-py"
  },
  "language_info": {
   "codemirror_mode": {
    "name": "ipython",
    "version": 3
   },
   "file_extension": ".py",
   "mimetype": "text/x-python",
   "name": "python",
   "nbconvert_exporter": "python",
   "pygments_lexer": "ipython3",
   "version": "3.7.12"
  }
 },
 "nbformat": 4,
 "nbformat_minor": 5
}
